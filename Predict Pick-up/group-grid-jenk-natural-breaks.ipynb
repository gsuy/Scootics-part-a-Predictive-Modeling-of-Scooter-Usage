{
 "cells": [
  {
   "cell_type": "code",
   "execution_count": null,
   "metadata": {},
   "outputs": [],
   "source": [
    "import pandas as pd\n",
    "import matplotlib.pyplot as plt\n",
    "import numpy as np\n",
    "import openpyxl\n",
    "import geopandas as gpd\n",
    "import seaborn as sns\n",
    "import jenkspy\n",
    "%matplotlib inline\n",
    "%config InlineBackend.figure_format = 'retina'\n",
    "plt.style.use('seaborn')"
   ]
  },
  {
   "cell_type": "code",
   "execution_count": null,
   "metadata": {},
   "outputs": [],
   "source": [
    "dfs = pd.read_csv('E:\\SeProj\\scooters_dataset\\ScooterData.csv')\n",
    "dfs['start_day_of_week'] = dfs['start_day_of_week'].replace(['0 Sunday'],'7 Sunday')\n",
    "gmap = \"E:\\SeProj\\scooters_dataset\\census community shapefile\\census_by_community1.shp\"\n",
    "gmap = gpd.read_file(gmap)\n",
    "dfs.head(3)"
   ]
  },
  {
   "cell_type": "code",
   "execution_count": null,
   "metadata": {},
   "outputs": [],
   "source": [
    "df= dfs.iloc[:, [2,3,4,5,6,7]]\n",
    "grid_t = dfs.iloc[:,[5,7]]\n",
    "xy = dfs.iloc[:,[7,9,10]]\n",
    "xy = xy.drop_duplicates(subset=['starting_grid_id'])"
   ]
  },
  {
   "cell_type": "code",
   "execution_count": null,
   "metadata": {},
   "outputs": [],
   "source": [
    "xy.sample(3)"
   ]
  },
  {
   "cell_type": "code",
   "execution_count": null,
   "metadata": {},
   "outputs": [],
   "source": [
    "grid_t.sample(3)"
   ]
  },
  {
   "cell_type": "code",
   "execution_count": null,
   "metadata": {},
   "outputs": [],
   "source": [
    "#grid pick-up count\n",
    "grid_pcount = df.starting_grid_id.value_counts().reset_index(name=\"pickup_count\")\n",
    "grid_pcount = grid_pcount.rename(columns={\"index\": \"starting_grid_id\"})\n",
    "grid_pcount['pickup_day'] = grid_pcount.pickup_count / 75\n",
    "grid_pcount.sample(3)"
   ]
  },
  {
   "cell_type": "code",
   "execution_count": null,
   "metadata": {},
   "outputs": [],
   "source": [
    "data = pd.merge(xy, grid_pcount, how='left', on=['starting_grid_id'])"
   ]
  },
  {
   "cell_type": "code",
   "execution_count": null,
   "metadata": {},
   "outputs": [],
   "source": [
    "plt.hist(data.pickup_day, bins = 100 )\n",
    "plt.show()"
   ]
  },
  {
   "cell_type": "code",
   "execution_count": null,
   "metadata": {},
   "outputs": [],
   "source": [
    "breaks = jenkspy.jenks_breaks(data['pickup_day'], nb_class=4)\n",
    "print(breaks)"
   ]
  },
  {
   "cell_type": "code",
   "execution_count": null,
   "metadata": {},
   "outputs": [],
   "source": [
    "data['clusters'] = pd.cut(\n",
    "    data['pickup_day'],\n",
    "    bins=jenkspy.jenks_breaks(data['pickup_day'], nb_class=4),\n",
    "    labels=['0', '1', '2', '3'],\n",
    "    include_lowest=True)"
   ]
  },
  {
   "cell_type": "code",
   "execution_count": null,
   "metadata": {},
   "outputs": [],
   "source": [
    "data"
   ]
  },
  {
   "cell_type": "code",
   "execution_count": null,
   "metadata": {},
   "outputs": [],
   "source": [
    "sns.scatterplot(data=data, x='startx', y='starty', s=20, hue='clusters', palette=['green','blue','orange','red'])\n",
    "plt.title('grid group(by_natural-breaks)')"
   ]
  },
  {
   "cell_type": "code",
   "execution_count": null,
   "metadata": {},
   "outputs": [],
   "source": [
    "cluster_n_breaks = data.clusters.value_counts()\n",
    "cluster_n_breaks.tolist(),cluster_n_breaks.sum()"
   ]
  },
  {
   "cell_type": "code",
   "execution_count": null,
   "metadata": {},
   "outputs": [],
   "source": [
    "group = ['A','B','C','D']"
   ]
  },
  {
   "cell_type": "code",
   "execution_count": null,
   "metadata": {},
   "outputs": [],
   "source": [
    "data"
   ]
  },
  {
   "cell_type": "code",
   "execution_count": null,
   "metadata": {},
   "outputs": [],
   "source": [
    "out_put = data.iloc[:, [0,5]]\n",
    "out_put.to_csv('Natural-breaks-clustering-gridID.csv')"
   ]
  }
 ],
 "metadata": {
  "kernelspec": {
   "display_name": "my_env",
   "language": "python",
   "name": "my_env"
  },
  "language_info": {
   "codemirror_mode": {
    "name": "ipython",
    "version": 3
   },
   "file_extension": ".py",
   "mimetype": "text/x-python",
   "name": "python",
   "nbconvert_exporter": "python",
   "pygments_lexer": "ipython3",
   "version": "3.6.12"
  }
 },
 "nbformat": 4,
 "nbformat_minor": 4
}