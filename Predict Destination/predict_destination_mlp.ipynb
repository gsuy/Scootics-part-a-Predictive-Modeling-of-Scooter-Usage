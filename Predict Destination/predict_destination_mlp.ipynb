{
  "nbformat": 4,
  "nbformat_minor": 0,
  "metadata": {
    "colab": {
      "name": "find destination MLP",
      "provenance": [],
      "collapsed_sections": []
    },
    "kernelspec": {
      "display_name": "Python 3",
      "name": "python3"
    }
  },
  "cells": [
    {
      "cell_type": "code",
      "metadata": {
        "colab": {
          "base_uri": "https://localhost:8080/"
        },
        "id": "XZOboMSIUd-4",
        "outputId": "1f2a3caa-0306-4715-9867-32138421f82c"
      },
      "source": [
        "import tensorflow.compat.v1 as tf\n",
        "tf.disable_v2_behavior()\n",
        "from keras.models import Model\n",
        "from keras import models, layers\n",
        "from keras.models import Sequential\n",
        "from keras.layers import Dense, Dropout\n",
        "from keras.callbacks import EarlyStopping\n",
        "from keras.optimizers import Adam\n",
        "from keras.models import load_model\n",
        "\n",
        "import numpy as np\n",
        "import pandas as pd\n",
        "\n",
        "import matplotlib.pyplot as plt\n",
        "import seaborn as sns\n",
        "import copy\n",
        "import math\n",
        "import json\n",
        "from math import sin, cos, sqrt, atan2,radians\n",
        "\n",
        "from google.colab import files\n",
        "from google.colab import drive\n",
        "drive.mount('/content/drive')"
      ],
      "execution_count": null,
      "outputs": []
    },
    {
      "cell_type": "code",
      "metadata": {
        "colab": {
          "base_uri": "https://localhost:8080/",
          "height": 17
        },
        "id": "tOvEJYjnd3lv",
        "outputId": "91d0f87d-539a-4692-ce5c-7ef171b8402e"
      },
      "source": [
        "import IPython\n",
        "from google.colab import output\n",
        "\n",
        "display(IPython.display.Javascript('''\n",
        "function ClickConnect(){\n",
        "  btn = document.querySelector(\"colab-connect-button\")\n",
        "  if (btn != null){\n",
        "    console.log(\"Click colab-connect-button\"); \n",
        "    btn.click() \n",
        "    }\n",
        "    \n",
        "  btn = document.getElementById('ok')\n",
        "  if (btn != null){\n",
        "    console.log(\"Click reconnect\"); \n",
        "    btn.click() \n",
        "    }\n",
        "  }\n",
        "    \n",
        "setInterval(ClickConnect,60000)'''))\n"
      ],
      "execution_count": null,
      "outputs": []
    },
    {
      "cell_type": "code",
      "metadata": {
        "id": "S6HOnAC3Un8j"
      },
      "source": [
        "nameFile = 'ScooterData_example.csv'\n",
        "dt = pd.read_csv(r'./Dataset/'+nameFile)\n",
        "f = open(r'./Dataset/grid_info_example.json')\n",
        "grid_info = json.loads(f.read())\n",
        "f.close()\n",
        "\n",
        "data_date_name = dt['start_date']\n",
        "grid_start_name = dt['starting_grid_id']\n",
        "data_date_name_test = dt['start_date']\n",
        "start_day_of_week_test = dt['start_day_of_week']\n",
        "grid_start_name_test = dt['starting_grid_id']\n",
        "grid_end_name_test = dt['ending_grid_id']\n",
        "start_hour_test = dt['start_hour']\n",
        "\n",
        "data_date_name_test = np.asarray(data_date_name_test.copy())\n",
        "start_day_of_week_test = np.asarray(start_day_of_week_test.copy())\n",
        "grid_start_name_test = np.asarray(grid_start_name_test.copy())\n",
        "grid_end_name_test = np.asarray(grid_end_name_test.copy())\n",
        "start_hour_test = np.asarray(start_hour_test.copy())\n",
        "\n",
        "dt['start_day_of_week'] = dt['start_day_of_week'].apply(lambda x: '7' if x[:1] == '0' else x[:1])\n",
        "\n",
        "h = pd.get_dummies(dt.start_hour, prefix='Hr')\n",
        "index = 5\n",
        "for i in h:\n",
        "  dt.insert(index, i, h[i], True)\n",
        "  index += 1\n",
        "d = pd.get_dummies(dt.start_day_of_week)\n",
        "d = d[['1','2','3','4','5','6','7']]\n",
        "index = 5\n",
        "for i in d:\n",
        "  dt.insert(index, i, d[i], True)\n",
        "  index += 1\n",
        "\n",
        "dt['startx'] = dt['startx'].apply(lambda x: float(x)+114)\n",
        "dt['starty'] = dt['starty'].apply(lambda x: float(x)-51)\n",
        "dt['endx'] = dt['endx'].apply(lambda x: float(x)+114)\n",
        "dt['endy'] = dt['endy'].apply(lambda x: float(x)-51)\n",
        "minX=min([dt['startx'].min(),dt['endx'].min()])\n",
        "maxX=max([dt['startx'].max(),dt['endx'].max()])\n",
        "minY=min([dt['starty'].min(),dt['endy'].min()])\n",
        "maxY=max([dt['starty'].max(),dt['endy'].max()])\n",
        "\n",
        "dt['startx'] = dt['startx'].apply(lambda x: ((float(x) - minX)/(maxX-minX))*(0.9)+0.1)\n",
        "dt['starty'] = dt['starty'].apply(lambda x: ((float(x) - minY)/(maxY-minY))*(0.9)+0.1)\n",
        "dt['endx'] = dt['endx'].apply(lambda x: ((float(x) - minX)/(maxX-minX))*(0.9)+0.1)\n",
        "dt['endy'] = dt['endy'].apply(lambda x: ((float(x) - minY)/(maxY-minY))*(0.9)+0.1)\n",
        "dt = dt.drop(columns=['ID','vehicle_type','start_date','trip_duration_min','trip_length_km','starting_grid_id','ending_grid_id','start_hour','start_day_of_week'])\n",
        "\n",
        "day_table = {\n",
        "        \"Monday\": 0,\n",
        "        \"Tuesday\": 1,\n",
        "        \"Wednesday\": 2,\n",
        "        \"Thursday\": 3,\n",
        "        \"Friday\": 4,\n",
        "        \"Saturday\": 5,\n",
        "        \"Sunday\": 6,\n",
        "    }\n",
        "\n",
        "data = np.asarray(dt,dtype=np.float32)\n",
        "data_cross_size = len(data)/10\n"
      ],
      "execution_count": null,
      "outputs": []
    },
    {
      "cell_type": "code",
      "metadata": {
        "id": "JX5X8tCkPN6q"
      },
      "source": [
        "def findkm(x,y):\n",
        "  R = 6373.0\n",
        "  lat1 = radians(y[1])\n",
        "  lon1 = radians(y[0])\n",
        "  lat2 = radians(x[1])\n",
        "  lon2 = radians(x[0])\n",
        "\n",
        "  dlon = lon2 - lon1\n",
        "  dlat = lat2 - lat1\n",
        "  a = (sin(dlat/2))**2 + cos(lat1) * cos(lat2) * (sin(dlon/2))**2\n",
        "  c = 2 * atan2(sqrt(a), sqrt(1-a))\n",
        "  return R * c\n",
        "\n",
        "def findDistance(x,y):\n",
        "  latitude = (x[0]-y[0])**2\n",
        "  longitude = (x[1]-y[1])**2\n",
        "  return math.sqrt(latitude+longitude)\n",
        "\n",
        "def findNearGrid(lat_long_predict):\n",
        "    name = None\n",
        "    min_distance = None\n",
        "    for key in grid_info:\n",
        "        temp_distance = findDistance([grid_info[key][\"longitude\"],grid_info[key][\"latitude\"]],lat_long_predict)\n",
        "        if name == None:\n",
        "            name = key\n",
        "            min_distance = temp_distance\n",
        "        elif min_distance > temp_distance:\n",
        "                name = key\n",
        "                min_distance = temp_distance\n",
        "    return name\n",
        "    \n",
        "def normalization(d):\n",
        "  x = list()\n",
        "  y = list()\n",
        "  for o in d:\n",
        "    x.append(o[:33])\n",
        "    y.append(o[33:])\n",
        "  x = np.array(x)\n",
        "  y = np.array(y)\n",
        "  return x,y"
      ],
      "execution_count": null,
      "outputs": []
    },
    {
      "cell_type": "code",
      "metadata": {
        "id": "see6ehzWfZJG"
      },
      "source": [
        "data_input,data_labels = normalization(data)"
      ],
      "execution_count": null,
      "outputs": []
    },
    {
      "cell_type": "code",
      "metadata": {
        "id": "zi3VIuONpIsP",
        "colab": {
          "base_uri": "https://localhost:8080/"
        },
        "outputId": "bff83f96-6880-4b2c-9dcf-54418da278a4"
      },
      "source": [
        "# model = Sequential()\n",
        "# model.add(Dense(300, activation=\"relu\", input_shape=(33,)))\n",
        "# model.add(Dropout(0.1))\n",
        "# model.add(Dense(300, activation=\"relu\"))\n",
        "# model.add(Dropout(0.1))\n",
        "# model.add(Dense(300, activation=\"relu\"))\n",
        "# model.add(Dropout(0.1))\n",
        "# model.add(Dense(300, activation=\"relu\"))\n",
        "# model.add(Dropout(0.1))\n",
        "# model.add(Dense(300, activation='relu'))\n",
        "# model.add(Dropout(0.1))\n",
        "# model.add(Dense(2, activation='linear'))\n",
        "# model.compile(optimizer=tf.keras.optimizers.Adam(learning_rate=0.001 ,name='Adam'), loss='mae')\n",
        "# model.summary()\n",
        "model = load_model(r'./Dataset/destination_model_example.h5')\n",
        "# model.save(r'./Dataset/find_destination_model_example.h5')\n"
      ],
      "execution_count": null,
      "outputs": []
    },
    {
      "cell_type": "code",
      "metadata": {
        "id": "bD-Azu_xosq6",
        "colab": {
          "base_uri": "https://localhost:8080/"
        },
        "outputId": "ae9da848-e504-44a1-bae2-d23f4407a948"
      },
      "source": [
        "step = int(data_cross_size)\n",
        "start = 0\n",
        "end = int(data_cross_size)\n",
        "process = {\n",
        "        10000: \"1/5\",\n",
        "        20000: \"2/5\",\n",
        "        30000: \"3/5\",\n",
        "        40000: \"4/5\"\n",
        "    }\n",
        "list_box_real_days = list()\n",
        "list_box_real_hr = list()\n",
        "for cross_validation in range(1,11):\n",
        "\n",
        "  real_days = [[]]*7\n",
        "  real_days_plot = list()\n",
        "  real_hr = [[]]*24\n",
        "  real_hr_plot = list()\n",
        "\n",
        "  train_input = data_input\n",
        "  train_labels = data_labels\n",
        "  if cross_validation != 10:\n",
        "    test_input = train_input[start:end]\n",
        "    test_labels = train_labels[start:end]\n",
        "    start_hour_test_ = start_hour_test[start:end]\n",
        "    start_day_of_week_test_ = start_day_of_week_test[start:end]\n",
        "  else:\n",
        "    test_input = train_input[start:]\n",
        "    test_labels = train_labels[start:]\n",
        "    start_hour_test_ = start_hour_test[start:]\n",
        "    start_day_of_week_test_ = start_day_of_week_test[start:]\n",
        "\n",
        "  train_input = np.delete(train_input,list(range(start,end)),axis=0)\n",
        "  train_labels = np.delete(train_labels,list(range(start,end)),axis=0)\n",
        "  callback = tf.keras.callbacks.EarlyStopping(monitor='loss', patience=3)\n",
        "  model = load_model(r'/content/drive/My Drive/Colab Notebooks/new_Dataset/destination_model.h5')\n",
        "  model.fit(train_input, train_labels, epochs=10,callbacks=[callback])\n",
        "\n",
        "  for op in range(len(test_input)):\n",
        "    check_ = process.get(op, False)\n",
        "    if(type(check_) != bool):\n",
        "      print(f\"process grid -> {check_}\")\n",
        "    output = model.predict(test_input[op].reshape(1,-1))\n",
        "    x_pre = ((output[0][0] - 0.1)/(0.9))*(maxX-minX)+minX-114 # scaleup longitude\n",
        "    y_pre = ((output[0][1] - 0.1)/(0.9))*(maxY-minY)+minY+51 # scaleup latitude\n",
        "\n",
        "    near_grid = grid_info[findNearGrid([x_pre, y_pre])]\n",
        "    x_ac = ((test_labels[op][0] - 0.1)/(0.9))*(maxX-minX)+minX-114 #long\n",
        "    y_ac = ((test_labels[op][1] - 0.1)/(0.9))*(maxY-minY)+minY+51 #la\n",
        "\n",
        "    real = findkm([x_ac,y_ac],[near_grid['longitude'],near_grid['latitude']])\n",
        "\n",
        "    day = start_day_of_week_test_[op][2:]\n",
        "    if day == \"Monday\":\n",
        "      real_days[0].append([real,day])\n",
        "    elif day == \"Tuesday\":\n",
        "      real_days[1].append([real,day])\n",
        "    elif day == \"Wednesday\":\n",
        "      real_days[2].append([real,day])\n",
        "    elif day == \"Thursday\":\n",
        "      real_days[3].append([real,day])\n",
        "    elif day == \"Friday\":\n",
        "      real_days[4].append([real,day])\n",
        "    elif day == \"Saturday\":\n",
        "      real_days[5].append([real,day])\n",
        "    elif day == \"Sunday\":\n",
        "      real_days[6].append([real,day])\n",
        "    real_hr[start_hour_test_[op]].append([real,start_hour_test_[op]])\n",
        "  print(\"process grid -> 5/5 complete\")\n",
        "  start = end\n",
        "  end += step\n",
        "  print(f'round {cross_validation}')\n",
        "  print(f'process... box_plot_data round -> {cross_validation}')\n",
        "\n",
        "  for k in range(len(real_days)):\n",
        "    real_days_plot += real_days[k]\n",
        "\n",
        "  for p in range(len(real_hr)):\n",
        "    real_hr_plot += real_hr[p]\n",
        "  list_box_real_days.append(pd.DataFrame(real_days_plot,columns=['km.','days']))\n",
        "  list_box_real_hr.append(pd.DataFrame(real_hr_plot,columns=['km.','hour']))\n"
      ],
      "execution_count": null,
      "outputs": []
    },
    {
      "cell_type": "code",
      "metadata": {
        "id": "VL1jBOrceINt"
      },
      "source": [
        "backup_hr = list_box_real_hr.copy()\n",
        "backup_days = list_box_real_days.copy()"
      ],
      "execution_count": null,
      "outputs": []
    },
    {
      "cell_type": "code",
      "metadata": {
        "id": "VoiQL-O2fxX8"
      },
      "source": [
        "hour_error = backup_hr[0]\n",
        "days_error = backup_days[0]\n",
        "for index1 in range(1,len(backup_hr)):\n",
        "  hour_error = hour_error.append(backup_hr[index1], ignore_index=True)\n",
        "for index2 in range(1,len(backup_days)):\n",
        "  days_error = days_error.append(backup_days[index2], ignore_index=True)"
      ],
      "execution_count": null,
      "outputs": []
    },
    {
      "cell_type": "code",
      "metadata": {
        "id": "94ak0hRpXqT2"
      },
      "source": [
        "days_error = days_error.rename(columns={'Distance(km)': 'Distance (km)'})\n",
        "hour_error =hour_error.rename(columns={'Distance(km)': 'Distance (km)'})"
      ],
      "execution_count": null,
      "outputs": []
    },
    {
      "cell_type": "code",
      "metadata": {
        "id": "olRcPBB1lstN",
        "colab": {
          "base_uri": "https://localhost:8080/",
          "height": 590
        },
        "outputId": "04907a4e-0e87-4a4d-b762-ce73e7a3d53c"
      },
      "source": [
        "sns.set_theme(style=\"whitegrid\")\n",
        "sns.set(rc={'figure.figsize':(12,9)})\n",
        "ax = sns.boxplot(x=\"days\", y=\"Distance (km)\",order=['Monday','Tuesday','Wednesday','Thursday','Friday','Saturday','Sunday'], data=days_error,palette=\"Set3\",linewidth=1,showfliers = False)\n",
        "plt.title(\"Average Distance Days of the week\")"
      ],
      "execution_count": null,
      "outputs": []
    },
    {
      "cell_type": "code",
      "metadata": {
        "id": "HhsM9LPslt-s",
        "colab": {
          "base_uri": "https://localhost:8080/",
          "height": 590
        },
        "outputId": "025a0140-799f-4ff3-87be-3d5913c3e171"
      },
      "source": [
        "sns.set_theme(style=\"whitegrid\")\n",
        "sns.set(rc={'figure.figsize':(12,9)})\n",
        "ax = sns.boxplot(x=\"hour\", y=\"Distance (km)\", data=hour_error,palette=\"Set3\",linewidth=1,showfliers = False)\n",
        "plt.title(\"Average Distance hours of the Day \")"
      ],
      "execution_count": null,
      "outputs": []
    },
    {
      "cell_type": "code",
      "metadata": {
        "id": "Ez5eaTGW6nSr"
      },
      "source": [
        "days_error.groupby(\"days\")[\"km.\"].describe().to_csv(r'/content/drive/My Drive/Colab Notebooks/new_Dataset/days_of_the_week.csv')\n",
        "hour_error.groupby(\"hour\")[\"km.\"].describe().to_csv(r'/content/drive/My Drive/Colab Notebooks/new_Dataset/hour_of_the_day.csv')"
      ],
      "execution_count": null,
      "outputs": []
    },
    {
      "cell_type": "code",
      "metadata": {
        "id": "8YSd440iuZi3"
      },
      "source": [
        "days_error[\"km.\"].describe().to_csv(r'/content/drive/My Drive/Colab Notebooks/new_Dataset/days_of_the_week_v2.csv')\n",
        "hour_error[\"km.\"].describe().to_csv(r'/content/drive/My Drive/Colab Notebooks/new_Dataset/hour_of_the_day_v2.csv')"
      ],
      "execution_count": null,
      "outputs": []
    }
  ]
}